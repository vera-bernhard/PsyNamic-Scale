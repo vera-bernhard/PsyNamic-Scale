{
 "cells": [
  {
   "cell_type": "markdown",
   "id": "b6895347",
   "metadata": {},
   "source": [
    "# Zero-Shot Experiments"
   ]
  },
  {
   "cell_type": "markdown",
   "id": "7074dfb8",
   "metadata": {},
   "source": [
    "### GPT-4o-mini & 'Study Type' Classification\n",
    "\n",
    "Note: Study Type classification was assumed to be multilabel classification"
   ]
  },
  {
   "cell_type": "code",
   "execution_count": 1,
   "id": "30a4e300",
   "metadata": {},
   "outputs": [],
   "source": [
    "import sys\n",
    "import os\n",
    "\n",
    "sys.path.append(os.path.abspath('..'))"
   ]
  },
  {
   "cell_type": "code",
   "execution_count": 2,
   "id": "6e558c9a",
   "metadata": {},
   "outputs": [
    {
     "name": "stdout",
     "output_type": "stream",
     "text": [
      "Computing F1 score and confidence interval...\n",
      "Running bootstrap for custom_f1...\n",
      "Computing accuracy and confidence interval...\n",
      "Running bootstrap for custom_accuracy...\n",
      "Computing precision and confidence interval...\n",
      "Running bootstrap for custom_precision...\n",
      "Computing recall and confidence interval...\n",
      "Running bootstrap for custom_recall...\n",
      "{'metrics': {'f1-weighted': (0.4175119681345698, (np.float64(0.3023989908606005), np.float64(0.5300500549359729))), 'accuracy': (0.3917525773195876, (np.float64(0.29896907216494845), np.float64(0.4948453608247423))), 'precision': (0.7739230737886049, (np.float64(0.3568085833354692), np.float64(0.8079404246026887))), 'recall': (0.5051546391752577, (np.float64(0.4020618556701031), np.float64(0.6082474226804123)))}, 'nr_empty_tru': np.int64(0)}\n"
     ]
    }
   ],
   "source": [
    "from evaluation.evaluate import get_performance_report\n",
    "import pandas as pd\n",
    "\n",
    "file = './study_type_gpt-4o-mini_05-06-05.csv'\n",
    "df = pd.read_csv(file)\n",
    "\n",
    "print(get_performance_report('labels', 'pred_labels', df))\n"
   ]
  },
  {
   "cell_type": "code",
   "execution_count": null,
   "id": "199c5656",
   "metadata": {},
   "outputs": [],
   "source": []
  }
 ],
 "metadata": {
  "kernelspec": {
   "display_name": "ma_env",
   "language": "python",
   "name": "python3"
  },
  "language_info": {
   "codemirror_mode": {
    "name": "ipython",
    "version": 3
   },
   "file_extension": ".py",
   "mimetype": "text/x-python",
   "name": "python",
   "nbconvert_exporter": "python",
   "pygments_lexer": "ipython3",
   "version": "3.12.3"
  }
 },
 "nbformat": 4,
 "nbformat_minor": 5
}
