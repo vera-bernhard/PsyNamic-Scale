{
 "cells": [
  {
   "cell_type": "markdown",
   "id": "b6895347",
   "metadata": {},
   "source": [
    "# Zero-Shot Experiments"
   ]
  },
  {
   "cell_type": "markdown",
   "id": "7074dfb8",
   "metadata": {},
   "source": [
    "### GPT-4o-mini & 'Study Type' Classification\n",
    "\n",
    "Note: Study Type classification was assumed to be multilabel classification"
   ]
  },
  {
   "cell_type": "code",
   "execution_count": 1,
   "id": "30a4e300",
   "metadata": {},
   "outputs": [],
   "source": [
    "import sys\n",
    "import os\n",
    "\n",
    "sys.path.append(os.path.abspath('..'))"
   ]
  },
  {
   "cell_type": "code",
   "execution_count": 2,
   "id": "6e558c9a",
   "metadata": {},
   "outputs": [
    {
     "name": "stdout",
     "output_type": "stream",
     "text": [
      "Computing F1 score and confidence interval...\n",
      "Running bootstrap for custom_f1...\n",
      "Computing accuracy and confidence interval...\n",
      "Running bootstrap for custom_accuracy...\n",
      "Computing precision and confidence interval...\n",
      "Running bootstrap for custom_precision...\n",
      "Computing recall and confidence interval...\n",
      "Running bootstrap for custom_recall...\n",
      "{'metrics': {'f1-macro': (0.3782723161478906, (np.float64(0.290241142906417), np.float64(0.4822396866098197))), 'accuracy': (0.3917525773195876, (np.float64(0.29896907216494845), np.float64(0.4948453608247423))), 'precision': (0.49408803756629843, (np.float64(0.40461589675724247), np.float64(0.5788258779273795))), 'recall': (0.5663465663465663, (np.float64(0.46192805304703544), np.float64(0.6319352101169284)))}, 'nr_empty_tru': np.int64(0)}\n"
     ]
    }
   ],
   "source": [
    "from evaluation.evaluate import get_performance_report\n",
    "import pandas as pd\n",
    "\n",
    "file = './study_type_gpt-4o-mini_05-06-05.csv'\n",
    "df = pd.read_csv(file)\n",
    "\n",
    "print(get_performance_report('labels', 'pred_labels', df))\n"
   ]
  },
  {
   "cell_type": "code",
   "execution_count": null,
   "id": "199c5656",
   "metadata": {},
   "outputs": [],
   "source": []
  }
 ],
 "metadata": {
  "kernelspec": {
   "display_name": "ma_env",
   "language": "python",
   "name": "python3"
  },
  "language_info": {
   "codemirror_mode": {
    "name": "ipython",
    "version": 3
   },
   "file_extension": ".py",
   "mimetype": "text/x-python",
   "name": "python",
   "nbconvert_exporter": "python",
   "pygments_lexer": "ipython3",
   "version": "3.12.3"
  }
 },
 "nbformat": 4,
 "nbformat_minor": 5
}
